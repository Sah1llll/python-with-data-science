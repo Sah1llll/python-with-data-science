{
 "cells": [
  {
   "cell_type": "code",
   "execution_count": 2,
   "metadata": {},
   "outputs": [
    {
     "name": "stdout",
     "output_type": "stream",
     "text": [
      "A\n",
      "B\n"
     ]
    }
   ],
   "source": [
    "marks = 87\n",
    "if marks >=90:\n",
    "    print('A+')\n",
    "if marks >=75:\n",
    "        print('A')\n",
    "if marks >=60:\n",
    "            print('B')\n",
    "if marks <60:\n",
    "                print('fail')"
   ]
  },
  {
   "cell_type": "code",
   "execution_count": 12,
   "metadata": {},
   "outputs": [
    {
     "name": "stdout",
     "output_type": "stream",
     "text": [
      "A+\n"
     ]
    }
   ],
   "source": [
    "marks = 87\n",
    "if marks <=90:\n",
    "    print('A+')"
   ]
  },
  {
   "cell_type": "code",
   "execution_count": 26,
   "metadata": {},
   "outputs": [
    {
     "name": "stdout",
     "output_type": "stream",
     "text": [
      "yes it is positive\n"
     ]
    }
   ],
   "source": [
    "num = 10\n",
    "if num >0:\n",
    "    print(\"yes it is positive\")\n",
    "if num <0:\n",
    "    print(\"no its negative\")"
   ]
  },
  {
   "cell_type": "code",
   "execution_count": 25,
   "metadata": {},
   "outputs": [
    {
     "name": "stdout",
     "output_type": "stream",
     "text": [
      "no its negative\n"
     ]
    }
   ],
   "source": [
    "num = -12\n",
    "if num >0:\n",
    "    print(\"yes it is positive\")\n",
    "elif num <0:\n",
    "    print(\"no its negative\")"
   ]
  },
  {
   "cell_type": "code",
   "execution_count": 24,
   "metadata": {},
   "outputs": [
    {
     "name": "stdout",
     "output_type": "stream",
     "text": [
      "its zero\n"
     ]
    }
   ],
   "source": [
    "num = 0\n",
    "if num >0:\n",
    "    print(\"yes it is positive\")\n",
    "if num <0:\n",
    "    print(\"no its negative\")\n",
    "else:\n",
    "    num == 0\n",
    "    print (\"its zero\")"
   ]
  },
  {
   "cell_type": "code",
   "execution_count": 41,
   "metadata": {},
   "outputs": [
    {
     "name": "stdout",
     "output_type": "stream",
     "text": [
      "even\n"
     ]
    }
   ],
   "source": [
    "num = int (input('enter a number'))\n",
    "if num %2==0:\n",
    "    print(\"even\")\n",
    "else:\n",
    "    print(\"odd\")"
   ]
  },
  {
   "cell_type": "code",
   "execution_count": 49,
   "metadata": {},
   "outputs": [
    {
     "name": "stdout",
     "output_type": "stream",
     "text": [
      "scalene\n"
     ]
    }
   ],
   "source": [
    "a = int (input('enter a number'))\n",
    "b = int (input('enter a number'))\n",
    "c = int (input('enter a number'))\n",
    "if a==b==c:\n",
    " print(\"trianlge is equilateral\")\n",
    "if a==b or b==c or c==a:\n",
    " print(\"triangle is isocoseles\")\n",
    "else:\n",
    " print(\"scalene\")\n"
   ]
  },
  {
   "cell_type": "code",
   "execution_count": 57,
   "metadata": {},
   "outputs": [
    {
     "ename": "SyntaxError",
     "evalue": "invalid syntax (2827272838.py, line 2)",
     "output_type": "error",
     "traceback": [
      "\u001b[1;36m  Cell \u001b[1;32mIn[57], line 2\u001b[1;36m\u001b[0m\n\u001b[1;33m    if str == a,e,i,o,u:\u001b[0m\n\u001b[1;37m               ^\u001b[0m\n\u001b[1;31mSyntaxError\u001b[0m\u001b[1;31m:\u001b[0m invalid syntax\n"
     ]
    }
   ],
   "source": [
    "str = str(input(\"enter the word\"))\n",
    "if str == a,e,i,o,u:\n",
    " print(\"vowel\")"
   ]
  },
  {
   "cell_type": "code",
   "execution_count": 1,
   "metadata": {},
   "outputs": [
    {
     "name": "stdout",
     "output_type": "stream",
     "text": [
      "Invalid usermane\n"
     ]
    }
   ],
   "source": [
    "username = input(\"Enter the username:\")\n",
    "email = input(\"Enter the email\")\n",
    "password = input(\"Entr the password\")\n",
    "cpass = input('Re-enter the password')\n",
    "if len(username)>5 and len(username)<15:\n",
    "    if '@' in email and len(email)>10:\n",
    "        if len(password)>5 and len (password)<=10:\n",
    "            if password == cpass:\n",
    "                print(\"Hurray! Registered Successfully\")\n",
    "            else :\n",
    "                print(\"Password mismatch\")\n",
    "        else :\n",
    "            print(\"incorrect password\")\n",
    "    else :\n",
    "        print(\"Invalid email\")\n",
    "else :\n",
    "    print(\"Invalid usermane\")\n"
   ]
  },
  {
   "cell_type": "code",
   "execution_count": 8,
   "metadata": {},
   "outputs": [
    {
     "name": "stdout",
     "output_type": "stream",
     "text": [
      "palindrome\n"
     ]
    }
   ],
   "source": [
    "n = 121\n",
    "rev = 0\n",
    "temp = n\n",
    "while n>0:\n",
    "    rem = n%10\n",
    "    rev = (rev*10)+rem\n",
    "    n = n//10.\n",
    "if rev == temp:\n",
    "    print(\"palindrome\")\n",
    "else :\n",
    "    print(\"not\")"
   ]
  },
  {
   "cell_type": "code",
   "execution_count": 12,
   "metadata": {},
   "outputs": [
    {
     "name": "stdout",
     "output_type": "stream",
     "text": [
      "not\n"
     ]
    }
   ],
   "source": [
    "n = 123\n",
    "rev = 0\n",
    "temp = n\n",
    "while n>0:\n",
    "    rem = n%10\n",
    "    rev = (rev*10)+rem\n",
    "    n = n//10\n",
    "if rev == temp:\n",
    "    print(\"palindrome\")\n",
    "else :\n",
    "    print(\"not\")"
   ]
  },
  {
   "cell_type": "code",
   "execution_count": 21,
   "metadata": {},
   "outputs": [
    {
     "name": "stdout",
     "output_type": "stream",
     "text": [
      "armstrong\n"
     ]
    }
   ],
   "source": [
    "n = 370\n",
    "sum = 0\n",
    "temp = n\n",
    "while n>0:\n",
    "    rem = n%10\n",
    "    sum += rem**3\n",
    "    n = n//10.\n",
    "if sum == temp:\n",
    "    print(\"armstrong\")\n",
    "else :\n",
    "    print(\"not\")"
   ]
  },
  {
   "cell_type": "code",
   "execution_count": 25,
   "metadata": {},
   "outputs": [
    {
     "name": "stdout",
     "output_type": "stream",
     "text": [
      "2\n",
      "4\n",
      "6\n",
      "8\n"
     ]
    }
   ],
   "source": [
    "a = [2,4,6,8]\n",
    "for i in a:\n",
    "    print(i)"
   ]
  },
  {
   "cell_type": "code",
   "execution_count": 29,
   "metadata": {},
   "outputs": [
    {
     "name": "stdout",
     "output_type": "stream",
     "text": [
      "j\n",
      " \n",
      "o\n",
      " \n",
      "h\n",
      " \n",
      "n\n"
     ]
    }
   ],
   "source": [
    "name = \"j o h n\"\n",
    "for i in name:\n",
    "    print(i)"
   ]
  },
  {
   "cell_type": "code",
   "execution_count": 2,
   "metadata": {},
   "outputs": [
    {
     "name": "stdout",
     "output_type": "stream",
     "text": [
      "vowel\n"
     ]
    }
   ],
   "source": [
    "char = input(\"Enter the character\")\n",
    "if char=='a' or char=='e' or char=='i' or char=='o' or char=='u':\n",
    "    print(\"vowel\")\n",
    "else:\n",
    "    print(\"consonant\")\n"
   ]
  },
  {
   "cell_type": "code",
   "execution_count": 7,
   "metadata": {},
   "outputs": [
    {
     "name": "stdout",
     "output_type": "stream",
     "text": [
      "vowel\n"
     ]
    }
   ],
   "source": [
    "char = input(\"enter the character\")\n",
    "if char in 'aeiou':\n",
    "    print(\"vowel\")\n",
    "else:\n",
    "    print(\"consonent\")"
   ]
  },
  {
   "cell_type": "code",
   "execution_count": null,
   "metadata": {},
   "outputs": [],
   "source": []
  }
 ],
 "metadata": {
  "kernelspec": {
   "display_name": "base",
   "language": "python",
   "name": "python3"
  },
  "language_info": {
   "codemirror_mode": {
    "name": "ipython",
    "version": 3
   },
   "file_extension": ".py",
   "mimetype": "text/x-python",
   "name": "python",
   "nbconvert_exporter": "python",
   "pygments_lexer": "ipython3",
   "version": "3.12.9"
  }
 },
 "nbformat": 4,
 "nbformat_minor": 2
}
