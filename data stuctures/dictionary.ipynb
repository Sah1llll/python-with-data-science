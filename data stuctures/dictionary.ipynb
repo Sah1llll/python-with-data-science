{
 "cells": [
  {
   "cell_type": "markdown",
   "metadata": {},
   "source": [
    "how to declare dictionary\n",
    "how to access keys and values\n",
    "how to use loops in dictionary\n",
    "indexing in dictionary"
   ]
  },
  {
   "cell_type": "code",
   "execution_count": 5,
   "metadata": {},
   "outputs": [
    {
     "name": "stdout",
     "output_type": "stream",
     "text": [
      "{'name': 'john', 'age': 25, 'course': 'python', 'marks': 78}\n"
     ]
    }
   ],
   "source": [
    "student = {\n",
    "    \"name\" : \"john\",\n",
    "    \"age\" : 25,\n",
    "    \"course\" : \"python\",\n",
    "    \"marks\" : 78\n",
    "}\n",
    "print(student)"
   ]
  },
  {
   "cell_type": "code",
   "execution_count": 9,
   "metadata": {},
   "outputs": [
    {
     "name": "stdout",
     "output_type": "stream",
     "text": [
      "{'name': 'john', 'age': 25, 'course': 'python', 'marks': 78}\n"
     ]
    }
   ],
   "source": [
    "info = dict(name = \"john\", age = 25, course = \"python\", marks = 78)\n",
    "print(info)"
   ]
  },
  {
   "cell_type": "code",
   "execution_count": 8,
   "metadata": {},
   "outputs": [
    {
     "name": "stdout",
     "output_type": "stream",
     "text": [
      "{'name': 'sahil', 'age': 21, 'course': 'python', 'Marks': 91}\n"
     ]
    }
   ],
   "source": [
    "info = dict(name = input(\"Enter your name\"), age = int(input(\"Enter your age\")),\n",
    "             course = input(\"enter your course\"), Marks = int(input(\"Enter the marks\")))\n",
    "print(info)"
   ]
  },
  {
   "cell_type": "code",
   "execution_count": 11,
   "metadata": {},
   "outputs": [
    {
     "name": "stdout",
     "output_type": "stream",
     "text": [
      "{'lucknow': [25, 32, 45], 'kanpur': [26, 33, 46], 'delhi': [27, 34, 47]}\n"
     ]
    }
   ],
   "source": [
    "temp = {\n",
    "    'lucknow' : [25,32,45],\n",
    "    'kanpur' : [26,33,46],\n",
    "    'delhi' : [27,34,47],\n",
    "}\n",
    "print(temp)"
   ]
  },
  {
   "cell_type": "markdown",
   "metadata": {},
   "source": [
    "#1st method to access values through keys "
   ]
  },
  {
   "cell_type": "code",
   "execution_count": 12,
   "metadata": {},
   "outputs": [
    {
     "name": "stdout",
     "output_type": "stream",
     "text": [
      "john\n",
      "25\n"
     ]
    }
   ],
   "source": [
    "print(student['name'])\n",
    "print(info['age'])"
   ]
  },
  {
   "cell_type": "markdown",
   "metadata": {},
   "source": [
    "#2nd method to acess value through keys"
   ]
  },
  {
   "cell_type": "code",
   "execution_count": 13,
   "metadata": {},
   "outputs": [
    {
     "name": "stdout",
     "output_type": "stream",
     "text": [
      "python\n"
     ]
    }
   ],
   "source": [
    "print(student.get('course'))"
   ]
  },
  {
   "cell_type": "markdown",
   "metadata": {},
   "source": [
    "#3 to add "
   ]
  },
  {
   "cell_type": "code",
   "execution_count": null,
   "metadata": {},
   "outputs": [],
   "source": []
  },
  {
   "cell_type": "code",
   "execution_count": null,
   "metadata": {},
   "outputs": [],
   "source": [
    "pr"
   ]
  },
  {
   "cell_type": "code",
   "execution_count": 16,
   "metadata": {},
   "outputs": [
    {
     "name": "stdout",
     "output_type": "stream",
     "text": [
      "name : john\n",
      "age : 25\n",
      "course : python\n",
      "marks : 78\n"
     ]
    }
   ],
   "source": [
    "for k,v in student.items():\n",
    "    print(f'{k} : {v}')"
   ]
  },
  {
   "cell_type": "code",
   "execution_count": 18,
   "metadata": {},
   "outputs": [
    {
     "name": "stdout",
     "output_type": "stream",
     "text": [
      "sum of 10 and 35 is 45\n",
      "sum of 10 and 35 is 45\n"
     ]
    }
   ],
   "source": [
    "a = 10\n",
    "b = 35\n",
    "sum = a + b\n",
    "print(\"sum of\",a,\"and\",b,\"is\",sum)\n",
    "print(f\"sum of {a} and {b} is {sum}\")"
   ]
  },
  {
   "cell_type": "code",
   "execution_count": 20,
   "metadata": {},
   "outputs": [
    {
     "name": "stdout",
     "output_type": "stream",
     "text": [
      "{'emp001': {'name': 'sahil', 'age': 25, 'dept': 'it', 'salary': 25000}, 'emp002': {'name': 'rohit', 'age': 26, 'dept': 'HR', 'salary': 26000}, 'emp003': {'name': 'raj', 'age': 27, 'dept': 'finance', 'salary': 27000}}\n"
     ]
    }
   ],
   "source": [
    "company = {\n",
    "    'emp001':{\n",
    "        'name' : 'sahil',\n",
    "        'age' : 25,\n",
    "        'dept' : 'it',\n",
    "        'salary' : 25000\n",
    "    },\n",
    "    'emp002' : {\n",
    "        'name' : 'rohit',\n",
    "        'age' : 26,\n",
    "        'dept' : 'HR',\n",
    "        'salary' : 26000\n",
    "    },\n",
    "    'emp003' : {\n",
    "        'name' : 'raj',\n",
    "        'age' : 27,\n",
    "        'dept' : 'finance',\n",
    "        'salary' : 27000\n",
    "    }\n",
    "}\n",
    "print(company)"
   ]
  },
  {
   "cell_type": "code",
   "execution_count": 21,
   "metadata": {},
   "outputs": [],
   "source": [
    "from pprint import pprint"
   ]
  },
  {
   "cell_type": "code",
   "execution_count": 22,
   "metadata": {},
   "outputs": [
    {
     "name": "stdout",
     "output_type": "stream",
     "text": [
      "{'emp001': {'age': 25, 'dept': 'it', 'name': 'sahil', 'salary': 25000},\n",
      " 'emp002': {'age': 26, 'dept': 'HR', 'name': 'rohit', 'salary': 26000},\n",
      " 'emp003': {'age': 27, 'dept': 'finance', 'name': 'raj', 'salary': 27000}}\n"
     ]
    }
   ],
   "source": [
    "pprint(company)"
   ]
  },
  {
   "cell_type": "code",
   "execution_count": 24,
   "metadata": {},
   "outputs": [
    {
     "name": "stdout",
     "output_type": "stream",
     "text": [
      "26\n"
     ]
    }
   ],
   "source": [
    "print(company['emp002']['age'])"
   ]
  },
  {
   "cell_type": "code",
   "execution_count": 25,
   "metadata": {},
   "outputs": [
    {
     "name": "stdout",
     "output_type": "stream",
     "text": [
      "32\n"
     ]
    }
   ],
   "source": [
    "print(temp['lucknow'][1])"
   ]
  },
  {
   "cell_type": "code",
   "execution_count": 2,
   "metadata": {},
   "outputs": [
    {
     "ename": "NameError",
     "evalue": "name 'temp' is not defined",
     "output_type": "error",
     "traceback": [
      "\u001b[1;31m---------------------------------------------------------------------------\u001b[0m",
      "\u001b[1;31mNameError\u001b[0m                                 Traceback (most recent call last)",
      "Cell \u001b[1;32mIn[2], line 1\u001b[0m\n\u001b[1;32m----> 1\u001b[0m \u001b[38;5;28mprint\u001b[39m(\u001b[38;5;28msum\u001b[39m(\u001b[43mtemp\u001b[49m[\u001b[38;5;124m'\u001b[39m\u001b[38;5;124mlucknow\u001b[39m\u001b[38;5;124m'\u001b[39m])\u001b[38;5;241m/\u001b[39m\u001b[38;5;28mlen\u001b[39m(temp[\u001b[38;5;124m'\u001b[39m\u001b[38;5;124mlucknow\u001b[39m\u001b[38;5;124m'\u001b[39m]))\n",
      "\u001b[1;31mNameError\u001b[0m: name 'temp' is not defined"
     ]
    }
   ],
   "source": [
    "print(sum(temp['lucknow'])/len(temp['lucknow']))"
   ]
  },
  {
   "cell_type": "code",
   "execution_count": null,
   "metadata": {},
   "outputs": [],
   "source": []
  }
 ],
 "metadata": {
  "kernelspec": {
   "display_name": "base",
   "language": "python",
   "name": "python3"
  },
  "language_info": {
   "codemirror_mode": {
    "name": "ipython",
    "version": 3
   },
   "file_extension": ".py",
   "mimetype": "text/x-python",
   "name": "python",
   "nbconvert_exporter": "python",
   "pygments_lexer": "ipython3",
   "version": "3.12.9"
  }
 },
 "nbformat": 4,
 "nbformat_minor": 2
}
