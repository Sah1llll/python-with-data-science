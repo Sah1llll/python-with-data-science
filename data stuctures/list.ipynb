{
 "cells": [
  {
   "cell_type": "code",
   "execution_count": 1,
   "metadata": {},
   "outputs": [
    {
     "name": "stdout",
     "output_type": "stream",
     "text": [
      "['drive', 'chrome', 'swiggy', 'zomato', 'insta', 'linkedin', 'snapchat', 'uber', 'rapido', 'chalo']\n"
     ]
    }
   ],
   "source": [
    "apps = ['drive','chrome','swiggy','zomato','insta','linkedin','snapchat','uber','rapido','chalo']\n",
    "print(apps)"
   ]
  },
  {
   "cell_type": "code",
   "execution_count": 6,
   "metadata": {},
   "outputs": [
    {
     "name": "stdout",
     "output_type": "stream",
     "text": [
      "linkedin\n"
     ]
    }
   ],
   "source": [
    "apps = ['drive','chrome','swiggy','zomato','insta','linkedin','snapchat','uber','rapido','chalo']\n",
    "print(apps[5])"
   ]
  },
  {
   "cell_type": "code",
   "execution_count": 4,
   "metadata": {},
   "outputs": [
    {
     "name": "stdout",
     "output_type": "stream",
     "text": [
      "linkedin\n"
     ]
    }
   ],
   "source": [
    "apps = ['drive','chrome','swiggy','zomato','insta','linkedin','snapchat','uber','rapido','chalo']\n",
    "print(apps[-5])"
   ]
  },
  {
   "cell_type": "code",
   "execution_count": 8,
   "metadata": {},
   "outputs": [
    {
     "name": "stdout",
     "output_type": "stream",
     "text": [
      "['swiggy', 'zomato', 'insta', 'linkedin']\n"
     ]
    }
   ],
   "source": [
    "apps = ['drive','chrome','swiggy','zomato','insta','linkedin','snapchat','uber','rapido','chalo']\n",
    "print(apps[2:6])"
   ]
  },
  {
   "cell_type": "code",
   "execution_count": 11,
   "metadata": {},
   "outputs": [
    {
     "name": "stdout",
     "output_type": "stream",
     "text": [
      "['swiggy', 'insta', 'snapchat', 'rapido']\n"
     ]
    }
   ],
   "source": [
    "apps = ['drive','chrome','swiggy','zomato','insta','linkedin','snapchat','uber','rapido','chalo']\n",
    "print(apps[2:9:2])"
   ]
  },
  {
   "cell_type": "code",
   "execution_count": 12,
   "metadata": {},
   "outputs": [
    {
     "name": "stdout",
     "output_type": "stream",
     "text": [
      "['linkedin', 'snapchat', 'uber', 'rapido']\n"
     ]
    }
   ],
   "source": [
    "apps = ['drive','chrome','swiggy','zomato','insta','linkedin','snapchat','uber','rapido','chalo']\n",
    "print(apps[-5:-1])"
   ]
  },
  {
   "cell_type": "code",
   "execution_count": 1,
   "metadata": {},
   "outputs": [
    {
     "name": "stdout",
     "output_type": "stream",
     "text": [
      "I AM THE BEST I AM THE BEST I AM THE BEST I AM THE BEST I AM THE BEST I AM THE BEST I AM THE BEST I AM THE BEST I AM THE BEST I AM THE BEST "
     ]
    }
   ],
   "source": [
    "str = \"I AM THE BEST\"\n",
    "for i in range(10):\n",
    "    print(str, end=\" \")"
   ]
  },
  {
   "cell_type": "code",
   "execution_count": 2,
   "metadata": {},
   "outputs": [
    {
     "name": "stdout",
     "output_type": "stream",
     "text": [
      "I AM THE BEST\n",
      "I AM THE BEST\n",
      "I AM THE BEST\n",
      "I AM THE BEST\n",
      "I AM THE BEST\n",
      "I AM THE BEST\n",
      "I AM THE BEST\n",
      "I AM THE BEST\n",
      "I AM THE BEST\n",
      "I AM THE BEST\n"
     ]
    }
   ],
   "source": [
    "str = \"I AM THE BEST\"\n",
    "for i in range(10):\n",
    "    print(str)"
   ]
  },
  {
   "cell_type": "code",
   "execution_count": 1,
   "metadata": {},
   "outputs": [
    {
     "ename": "NameError",
     "evalue": "name 'temp' is not defined",
     "output_type": "error",
     "traceback": [
      "\u001b[1;31m---------------------------------------------------------------------------\u001b[0m",
      "\u001b[1;31mNameError\u001b[0m                                 Traceback (most recent call last)",
      "Cell \u001b[1;32mIn[1], line 1\u001b[0m\n\u001b[1;32m----> 1\u001b[0m \u001b[38;5;28mprint\u001b[39m(\u001b[38;5;28msum\u001b[39m(\u001b[43mtemp\u001b[49m[\u001b[38;5;124m'\u001b[39m\u001b[38;5;124mlucknow\u001b[39m\u001b[38;5;124m'\u001b[39m])\u001b[38;5;241m/\u001b[39m\u001b[38;5;28mlen\u001b[39m(temp[\u001b[38;5;124m'\u001b[39m\u001b[38;5;124mlucknow\u001b[39m\u001b[38;5;124m'\u001b[39m]))\n",
      "\u001b[1;31mNameError\u001b[0m: name 'temp' is not defined"
     ]
    }
   ],
   "source": [
    "print(sum(temp['lucknow'])/len(temp['lucknow']))"
   ]
  },
  {
   "cell_type": "code",
   "execution_count": null,
   "metadata": {},
   "outputs": [],
   "source": []
  }
 ],
 "metadata": {
  "kernelspec": {
   "display_name": "base",
   "language": "python",
   "name": "python3"
  },
  "language_info": {
   "codemirror_mode": {
    "name": "ipython",
    "version": 3
   },
   "file_extension": ".py",
   "mimetype": "text/x-python",
   "name": "python",
   "nbconvert_exporter": "python",
   "pygments_lexer": "ipython3",
   "version": "3.12.9"
  }
 },
 "nbformat": 4,
 "nbformat_minor": 2
}
